{
 "cells": [
  {
   "cell_type": "markdown",
   "metadata": {},
   "source": [
    "## HW2: KNN from scratch"
   ]
  },
  {
   "cell_type": "code",
   "execution_count": 370,
   "metadata": {},
   "outputs": [],
   "source": [
    "import numpy as np\n",
    "import matplotlib.pyplot as plt\n",
    "\n",
    "from collections import OrderedDict\n",
    "from sklearn.model_selection import train_test_split"
   ]
  },
  {
   "cell_type": "code",
   "execution_count": 325,
   "metadata": {
    "colab": {
     "autoexec": {
      "startup": false,
      "wait_interval": 0
     }
    },
    "colab_type": "code",
    "id": "qa5AdMZOPewA"
   },
   "outputs": [
    {
     "data": {
      "text/plain": [
       "<matplotlib.collections.PathCollection at 0x1d948765e48>"
      ]
     },
     "execution_count": 325,
     "metadata": {},
     "output_type": "execute_result"
    },
    {
     "data": {
      "image/png": "[encoded data removed]",
      "text/plain": [
       "<Figure size 432x288 with 1 Axes>"
      ]
     },
     "metadata": {},
     "output_type": "display_data"
    }
   ],
   "source": [
    "np.random.seed(37)\n",
    "data = np.vstack(((np.random.randn(150, 2)  + np.array([3, 0])),\n",
    "               (np.random.randn(100, 2)  + np.array([-3.5, 0.5])),\n",
    "               (np.random.randn(100, 2) + np.array([-0.5, -2])),\n",
    "               (np.random.randn(150, 2) + np.array([-2, -2.5])),\n",
    "               (np.random.randn(150, 2) + np.array([-5.5, -3]))))\n",
    "X = np.hstack([data,np.random.randint(0,3,650).reshape(-1,1)])\n",
    "plt.scatter(X[:,0],X[:,1])"
   ]
  },
  {
   "cell_type": "code",
   "execution_count": 396,
   "metadata": {},
   "outputs": [],
   "source": [
    "class KNN(object):\n",
    "    \"\"\"\n",
    "    KNN for classification\n",
    "    \n",
    "    Argumants:\n",
    "    ---------\n",
    "    X - input matrix\n",
    "    k - number of classes\n",
    "    n - number of nearest neighbours\n",
    "    \"\"\"\n",
    "    def euclidean_dist(x,y):\n",
    "        \"\"\"\n",
    "        euclidean distance between points x(x0,y0) and y(x1,y1)\n",
    "        \"\"\"\n",
    "        return ((y[0]-x[0])**2+(y[1]-x[1])**2)**0.5\n",
    "    \n",
    "    \n",
    "    def split_data(self):\n",
    "        train_data, test_data = train_test_split(self.X,0.8)\n",
    "        self.X_train, self.Y_train = train_data[:,:2],train_data[:,2]\n",
    "        self.X_test, self.Y_test = test_data[:,:2],test_data[:,2]\n",
    "        \n",
    "        \n",
    "    def __init__(self,X,n):\n",
    "        self.X = X\n",
    "        self.n = n\n",
    "        self.k = len(np.unique(X[:,2]))\n",
    "        self.split_data()\n",
    "    \n",
    "    def get_Neighbours(self,point):\n",
    "        \"\"\"\n",
    "        Arguments:\n",
    "        ---------\n",
    "        point -- array(x,y), chosen point from test\n",
    "    \n",
    "        Returns:\n",
    "        ---------\n",
    "        list of indices of k nearest points\n",
    "        \n",
    "        \"\"\"\n",
    "        #calculate k closest points from train\n",
    "        distances = {euclidean_dist(self.X_train[i],point) : i for i in range(len(self.X_train)) if (self.X_train[i]!=point).all() }\n",
    "        distances = OrderedDict(sorted(res.items()))\n",
    "        \n",
    "        #return indices of k closest points\n",
    "        k_nearest = list(distances.items())[:k]\n",
    "        return [row[1] for row in k_nearest]\n",
    "        \n",
    "        \n",
    "    def vote(self):\n",
    "        return 0\n",
    "        \n",
    "    def predict(self):\n",
    "        prediction = []\n",
    "        # for each point in test \n",
    "        for point in self.X_test:\n",
    "            #get indexes of k closest points\n",
    "            k_neighbours = get_Neighbours(point)\n",
    "            \n",
    "            #select class based on 'voting' process\n",
    "        return predition"
   ]
  },
  {
   "cell_type": "code",
   "execution_count": 50,
   "metadata": {},
   "outputs": [],
   "source": [
    "class KMeans(object):\n",
    "    \"\"\"\n",
    "    Arguments:\n",
    "    ---------\n",
    "    X -- np.array; matrix of input features\n",
    "    k -- int; number of clusters\n",
    "    \"\"\"\n",
    "    \n",
    "    def __init__(self,X,k):\n",
    "        self.X = X\n",
    "        self.k = k\n",
    "        \n",
    "    def initialize_centroids(self):\n",
    "        \"\"\"\n",
    "        Returns:\n",
    "        -------\n",
    "        Array (k,n_features), containing k centroids from initial points\n",
    "        \"\"\"\n",
    "        # use shuffle with random state = 512, and pick first k points\n",
    "        np.random.seed(512)\n",
    "        return np.random.permutation(self.X)[:self.k]\n",
    "\n",
    "    def closest_centroids(self,centroids):\n",
    "        \"\"\"\n",
    "        Returns:\n",
    "        Array (n_examples,), containing index of the nearest centroid for each point\n",
    "        \"\"\"\n",
    "        np.vectorize(lambda x:np.linalg.norm(x-c) for c in centroids )(self.X)\n",
    "        np.argmin(np.linalg.norm(x-c))\n",
    "        \n",
    "        \n",
    "    def move_centroids(self,centroids):\n",
    "        \"\"\"\n",
    "        Returns:\n",
    "        Array (n_clusters, n_features), containing the new centroids \n",
    "        assigned from the points closest to them\n",
    "\n",
    "        \"\"\"\n",
    "    \n",
    "    def final_centroids(self):\n",
    "        \"\"\"\n",
    "        Returns:\n",
    "        \n",
    "        clusters -- list of arrays, containing points of each cluster\n",
    "        centroids -- array (n_clusters, n_features), containing final centroids\n",
    "        \"\"\"\n",
    "        \n",
    "        return clusters, centroids\n",
    "        \n",
    "        "
   ]
  },
  {
   "cell_type": "code",
   "execution_count": 49,
   "metadata": {},
   "outputs": [
    {
     "data": {
      "text/plain": [
       "array([[-1.40039209, -2.75287814],\n",
       "       [-1.63504004, -2.59016237],\n",
       "       [ 2.26881985,  0.83999591]])"
      ]
     },
     "execution_count": 49,
     "metadata": {},
     "output_type": "execute_result"
    }
   ],
   "source": [
    "model = KMeans(X,3)\n",
    "model.initialize_centroids()"
   ]
  },
  {
   "cell_type": "markdown",
   "metadata": {},
   "source": [
    "### Потенциалы"
   ]
  },
  {
   "cell_type": "markdown",
   "metadata": {},
   "source": [
    "### Visualisation"
   ]
  },
  {
   "cell_type": "code",
   "execution_count": null,
   "metadata": {},
   "outputs": [],
   "source": []
  }
 ],
 "metadata": {
  "kernelspec": {
   "display_name": "Python [conda root]",
   "language": "python",
   "name": "conda-root-py"
  },
  "language_info": {
   "codemirror_mode": {
    "name": "ipython",
    "version": 3
   },
   "file_extension": ".py",
   "mimetype": "text/x-python",
   "name": "python",
   "nbconvert_exporter": "python",
   "pygments_lexer": "ipython3",
   "version": "3.6.5"
  }
 },
 "nbformat": 4,
 "nbformat_minor": 2
}
