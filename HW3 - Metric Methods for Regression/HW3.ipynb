{
 "cells": [
  {
   "cell_type": "markdown",
   "metadata": {},
   "source": [
    "### Metric methods for a regression problem"
   ]
  },
  {
   "cell_type": "code",
   "execution_count": 1,
   "metadata": {},
   "outputs": [],
   "source": [
    "import numpy as np\n",
    "import matplotlib.pyplot as plt\n",
    "from sklearn.model_selection import train_test_split\n",
    "from sklearn.cluster import AgglomerativeClustering,KMeans,SpectralClustering\n",
    "from sklearn.metrics import mean_absolute_error,mean_squared_error\n",
    "from scipy import stats\n",
    "from collections import OrderedDict\n",
    "%matplotlib inline"
   ]
  },
  {
   "cell_type": "markdown",
   "metadata": {},
   "source": [
    "### Visualisation methods"
   ]
  },
  {
   "cell_type": "code",
   "execution_count": 2,
   "metadata": {},
   "outputs": [],
   "source": [
    "def visualize(X,Y,X_test,Y_test,Y_pred=[]):\n",
    "    plt.figure(figsize=(20,10))\n",
    "    \n",
    "    plt.plot(X,Y,'ro',label='train points')\n",
    "    plt.plot(X_test,Y_test,'go',label='test points')\n",
    "    \n",
    "    if type(Y_pred)==np.ndarray:\n",
    "        plt.plot(X_test,Y_pred,'#222222',label = 'regression line')\n",
    "    \n",
    "    plt.legend()\n",
    "    plt.show()"
   ]
  },
  {
   "cell_type": "code",
   "execution_count": 3,
   "metadata": {},
   "outputs": [],
   "source": [
    "def visualize_classes(train,test,pred_labels,figsize=(15,10),data=None,demo=False):\n",
    "    plt.figure(figsize=figsize)\n",
    "    \n",
    "    if data is not None:\n",
    "        train = data\n",
    "    \n",
    "    c = len(np.unique(train[:,-1]))\n",
    "    colormap = plt.cm.binary_r\n",
    "    colors =[x/(2*c) for x in range(2*c)]\n",
    "    \n",
    "    train_map = [colors[i] for i in train[:,-1].astype(int)]\n",
    "    \n",
    "    if data is None:\n",
    "        test_map = [colors[i+c] for i in test[:,-1].astype(int)]\n",
    "        pred_map = [colors[i+c] for i in pred_labels[:]]\n",
    "\n",
    "    plt.scatter(train[:,0],train[:,1],c = train_map,cmap=plt.cm.copper,s=50,marker='o')\n",
    "    if demo:\n",
    "        plt.scatter(test[:,0],test[:,1],c = test_map,cmap=plt.cm.copper,s=50,marker='o')\n",
    "    elif data is None:\n",
    "        plt.scatter(test[:,0],test[:,1],c = pred_map,cmap=plt.cm.flag_r,s=120,marker='o')\n",
    "        plt.plot([],marker='o',ms=10,ls=\"\",color=\"b\",label=\"Train\")\n",
    "        plt.plot([],marker='o',ms=16,ls=\"\",color=\"b\",label=\"Pred\")\n",
    "        plt.legend()\n",
    "\n",
    "    plt.title('Data split by classes')\n",
    "    plt.axis([-8,6,-6,3]) \n",
    "    plt.show()"
   ]
  },
  {
   "cell_type": "markdown",
   "metadata": {},
   "source": [
    "Data from csv file"
   ]
  },
  {
   "cell_type": "code",
   "execution_count": 64,
   "metadata": {},
   "outputs": [
    {
     "data": {
      "text/plain": [
       "array([[ 2.946,  0.674],\n",
       "       [ 3.347, -1.3  ],\n",
       "       [ 4.519,  0.99 ],\n",
       "       ...,\n",
       "       [-4.551, -4.602],\n",
       "       [-5.144, -1.847],\n",
       "       [-4.348, -3.571]])"
      ]
     },
     "execution_count": 64,
     "metadata": {},
     "output_type": "execute_result"
    }
   ],
   "source": [
    "X[:,:2]"
   ]
  },
  {
   "cell_type": "code",
   "execution_count": 123,
   "metadata": {},
   "outputs": [
    {
     "data": {
      "image/png": "[encoded data removed]",
      "text/plain": [
       "<Figure size 432x288 with 1 Axes>"
      ]
     },
     "metadata": {
      "needs_background": "light"
     },
     "output_type": "display_data"
    }
   ],
   "source": [
    "X = np.genfromtxt('data.csv',delimiter=',')\n",
    "plt.scatter(X[:,0],X[:,1])\n",
    "\n",
    "#train,test = train_test_split(X)\n",
    "#X_tr,Y_tr = train[:,:3],train[:,3]\n",
    "#X_t,Y_t = test[:,:3],test[:,3]\n",
    "\n",
    "train, test = train_test_split(X[:,:2])\n",
    "X_tr, X_t = train[:,0], test[:,0] \n",
    "Y_tr, Y_t = train[:,1], test[:,1]"
   ]
  },
  {
   "cell_type": "markdown",
   "metadata": {},
   "source": [
    "### Naive approach - KNN for regression"
   ]
  },
  {
   "cell_type": "markdown",
   "metadata": {},
   "source": [
    "KNN and Parzen windows for a regression problem with inverted average weights as a prediction function"
   ]
  },
  {
   "cell_type": "code",
   "execution_count": 103,
   "metadata": {},
   "outputs": [],
   "source": [
    "class KNN_regression(object):\n",
    "    \"\"\"\n",
    "    KNN for regression\n",
    "    \n",
    "    Arguments:\n",
    "    ---------\n",
    "    k -- number of nearest neighbours\n",
    "    X -- input matrix\n",
    "    \"\"\"\n",
    "    def euclidean_dist(self,x,y):\n",
    "        \"\"\"\n",
    "        Euclidean distance between points x and y\n",
    "        \"\"\"\n",
    "        if type(x)==np.float64:\n",
    "            return (((y-x)**2)**0.5)\n",
    "        return sum((y[i]-x[i])**2 for i in range(len(x)))**0.5\n",
    "    \n",
    "    def manhattan_dist(self,x,y):\n",
    "        \"\"\"\n",
    "        Manhattan distance between points x and y\n",
    "        \"\"\"\n",
    "        if type(x)==np.float64:\n",
    "            return (abs(x-y))\n",
    "        return sum(abs(x[i]-y[i]) for i in range(len(x)))\n",
    "        \n",
    "    def split_data(self):\n",
    "        train,test = train_test_split(self.X)\n",
    "        self.X_train,self.X_test = train[:,0],test[:,0]\n",
    "        self.Y_train,self.Y_test = test[:,1],test[:,1]\n",
    "\n",
    "    \n",
    "    def __init__(self,k=None,X = None, X_train=None, X_test = None, Y_train = None, Y_test = None, window_width = None):\n",
    "        if X is None:\n",
    "            self.X_train, self.X_test  = X_train, X_test\n",
    "            self.Y_train, self.Y_test  = Y_train, Y_test\n",
    "        else:\n",
    "            self.X = X\n",
    "            self.split_data()\n",
    "        \n",
    "        if k is not None:\n",
    "            self.k = k\n",
    "            self.parzen = False\n",
    "        else:#using Parzen window  \n",
    "            self.w = window_width\n",
    "            self.parzen = True\n",
    "      \n",
    "    def predict_average(self, distances):\n",
    "        return np.mean(distances)\n",
    "    \n",
    "    def predict_weighted_average(self,neighbours,weights):\n",
    "        \"\"\"\n",
    "        Arguments:\n",
    "            neighbours -- list of k closest neighbours [[distance,index],...]\n",
    "            weights -- list of inversed weights\n",
    "        Returns:\n",
    "            prediction based on weighted average\n",
    "        \"\"\"\n",
    "        indices = [row[1] for row in neighbours]\n",
    "        values = self.X_train[indices]\n",
    "        \n",
    "        return np.dot(values,weights)\n",
    "        \n",
    "    def get_Neighbours(self,point):\n",
    "        \"\"\"\n",
    "        Arguments:\n",
    "            point -- chosen point from X_test\n",
    "        Returns:\n",
    "            list of k closest neighbours [[distance,index],...]\n",
    "        \"\"\"\n",
    "        distances = {self.euclidean_dist(self.X_train[i],point):i for i in range(len(self.X_train))}\n",
    "        distances = OrderedDict(sorted(distances.items()))\n",
    "        if self.parzen:\n",
    "            i = sum(1 if d<=self.w else 0 for d in list(distances.values()))\n",
    "            return list(distances.items())[:i]\n",
    "        else:\n",
    "            k_nearest = list(distances.items())[:self.k]\n",
    "            return k_nearest\n",
    "        #return [row[0] for row in k_nearest]\n",
    "        \n",
    "    def get_Neighbours_Parzen(self,point):\n",
    "        \"\"\"\n",
    "        Arguments:\n",
    "        ----------\n",
    "        point -- chosen point from X_test\n",
    "        Returns:\n",
    "        list of points inside a Parzen window\n",
    "        \"\"\"\n",
    "        distances = {self.euclidean_dist(self.X_train[i],point):i for i in range(len(self.X_train))}\n",
    "        distances = OrderedDict(sorted(distances.items()))\n",
    "        \n",
    "        i = sum(1 if d<=self.w else 0 for d in list(distances.values()))\n",
    "        return list(distances.items())[:i]\n",
    "\n",
    "    def get_Weights(self,neighbours):\n",
    "        \"\"\"\n",
    "        Arguments:\n",
    "        ---------\n",
    "        neighbours -- list of k closest neighbours [[distance,index],...]\n",
    "        Returns:\n",
    "        ---------\n",
    "        list of inversed weights - highest score for the closest point\n",
    "        \"\"\"\n",
    "        distances = [row[0] for row in neighbours]\n",
    "        inversed_distances = [sum(distances)/(d+1) for d in distances]\n",
    "        return [d/sum(inversed_distances) for d in inversed_distances]\n",
    "    \n",
    "    def predict(self):\n",
    "        prediction = []\n",
    "        for point in self.X_test:\n",
    "            #get neighbours\n",
    "            neighbours = self.get_Neighbours(point)\n",
    "            #calculate weight based on proximity of each point\n",
    "            weights = self.get_Weights(neighbours)\n",
    "            #predict price based on their values\n",
    "            prediction.append(self.predict_weighted_average(neighbours,weights))\n",
    "        self.pred = np.array(prediction)\n",
    "        return self.pred\n",
    "    \n",
    "    def calculate_error(self,param=\"squared\"):\n",
    "        if param==\"squared\":\n",
    "            return mean_squared_error(self.X_test,self.pred)\n",
    "        else:\n",
    "            return mean_absolute_error(self.X_test,self.pred)\n",
    "    \n",
    "    \n",
    "    def set_width(self, w):\n",
    "        self.w = w\n",
    "    \n",
    "    def set_k(self,k):\n",
    "        self.k = k\n",
    "        \n",
    "    def get_X_test(self):\n",
    "        return self.X_test\n",
    "    def get_pred(self):\n",
    "        return self.pred"
   ]
  },
  {
   "cell_type": "markdown",
   "metadata": {},
   "source": [
    "### Generating weights:\n",
    "\n",
    "Let's say we have 3 neighbours for a certain point P.\n",
    "$$totalDistance = \\sum\\limits_{i=0}^n{dist_i}$$\n",
    "\n",
    "| dist(p,p1) | dist(p,p2) | dist(p,p3) | totalDistance|\n",
    "| --- | --- | --- | --- |\n",
    "| 0.5 | 1.5 | 4.0 | 6.0 |\n",
    "\n",
    "Let's say we want to assign average weights based on their 'share in a total distance':\n",
    "\n",
    "| w1 | w2 | w3 | $\\sum$|\n",
    "| --- | --- | --- | --- |\n",
    "| 0.083 | 0.25 | 0.667 | 1.0 |\n",
    "\n",
    "As we may see, the furthest point has the most weight.\n",
    "But our goal is to make closest points the most important.\n",
    "To achieve that we will use inversed average weighting\n",
    "\n",
    "<center>Let's calculate inverted weights: <font size=4>$ w_i = \\frac{totalDistance}{dist(p,p_i)+1}$</font></center>\n",
    "\n",
    "| id1 | id2 | id3 | $\\sum$|\n",
    "| --- | --- | --- | ---|\n",
    "| 4.0 | 2.4 | 1.2 | 7.6|\n",
    "\n",
    "The new shares will be:\n",
    "\n",
    "| iw1 | iw2 | iw3 | $\\sum$ |\n",
    "| --- | --- | --- | --- |\n",
    "| 0.526 | 0.316 | 0.158 | 1.0 |\n"
   ]
  },
  {
   "cell_type": "code",
   "execution_count": 104,
   "metadata": {},
   "outputs": [
    {
     "name": "stdout",
     "output_type": "stream",
     "text": [
      "0.021245829275803728\n",
      "0.06856857655673997\n"
     ]
    }
   ],
   "source": [
    "#nbrs = model.get_Neighbours(X_t[15])\n",
    "#whts = model.get_Weights(nbrs)\n",
    "#indices = [row[1] for row in nbrs]\n",
    "#m = X_tr[indices][:,2]\n",
    "#np.dot(m,whts)\n",
    "\n",
    "\n",
    "model = KNN_regression(40,X_train=X_tr,X_test=X_t,Y_train=Y_tr,Y_test=Y_t)\n",
    "pr = model.predict()\n",
    "\n",
    "print(model.calculate_error(\"squared\"))\n",
    "print(model.calculate_error(\"absolute\"))"
   ]
  },
  {
   "cell_type": "code",
   "execution_count": 105,
   "metadata": {},
   "outputs": [
    {
     "data": {
      "text/plain": [
       "[<matplotlib.lines.Line2D at 0x225dc7b87b8>]"
      ]
     },
     "execution_count": 105,
     "metadata": {},
     "output_type": "execute_result"
    },
    {
     "data": {
      "image/png": "[encoded data removed]",
      "text/plain": [
       "<Figure size 432x288 with 1 Axes>"
      ]
     },
     "metadata": {
      "needs_background": "light"
     },
     "output_type": "display_data"
    }
   ],
   "source": [
    "accuracy = []\n",
    "model = KNN_regression(1,X_train=X_tr,X_test=X_t,Y_train=Y_tr,Y_test=Y_t)\n",
    "for i in range(2,40):\n",
    "    model.set_k(i)\n",
    "    pr = model.predict()\n",
    "    accuracy.append(model.calculate_error())\n",
    "plt.title(\"KNN mse\")\n",
    "plt.plot(accuracy)"
   ]
  },
  {
   "cell_type": "code",
   "execution_count": 106,
   "metadata": {},
   "outputs": [
    {
     "data": {
      "text/plain": [
       "0.01856754535169097"
      ]
     },
     "execution_count": 106,
     "metadata": {},
     "output_type": "execute_result"
    }
   ],
   "source": [
    "model = KNN_regression(X_train=X_tr,X_test=X_t,Y_train=Y_tr,Y_test = Y_t, window_width=36.0)\n",
    "pr = model.predict()\n",
    "\n",
    "model.calculate_error()"
   ]
  },
  {
   "cell_type": "markdown",
   "metadata": {},
   "source": [
    "### Kernel Regression"
   ]
  },
  {
   "cell_type": "markdown",
   "metadata": {},
   "source": [
    "<font size=5>$ f(x):= \\frac {\\sum_{i=1}^n K_{\\lambda}(x_0,x_i)y_i}{\\sum_{i=1}^n K_{\\lambda}(x_0,x_i)} $</font>"
   ]
  },
  {
   "cell_type": "code",
   "execution_count": 116,
   "metadata": {},
   "outputs": [],
   "source": [
    "class Kernel:\n",
    "    \"\"\"\n",
    "    Nadaraya-Watson weighted average regressor using kernel functions\n",
    "    \"\"\"\n",
    "    def __init__(self,X_train,Y_train,X_test,Y_test, params, lam = 0.2):\n",
    "        \n",
    "        self.X_train, self.X_test = X_train, X_test\n",
    "        self.Y_train, self.Y_test = Y_train, Y_test\n",
    "        self.lam = lam\n",
    "        if params:\n",
    "            self.params = params\n",
    "        else:\n",
    "            print(\"wrong set of parameters\")\n",
    "    \n",
    "    def kernel(self,x0,x1):\n",
    "        \"\"\"\n",
    "        Arguments:\n",
    "        ----------\n",
    "        x0 -- test point\n",
    "        x1 -- train point\n",
    "        Returns:\n",
    "        -------\n",
    "        value of Kernel function for a specific pair and parameter\n",
    "        \"\"\"\n",
    "        u = abs(x0-x1)/self.lam\n",
    "       # print(u,x0,x1)\n",
    "        if abs(u)<=1:\n",
    "            return 0\n",
    "        else:\n",
    "            if self.current_param == \"parabolic\": #Epanenchikov\n",
    "                return 0.75 * (1-u**2)\n",
    "            \n",
    "            elif self.current_param == \"quartic\":#Біквадратне\n",
    "                return 15*((1-u**2)**2)/16\n",
    "\n",
    "            elif self.current_param == \"gaussian\":\n",
    "                return np.exp(-0.5 * u**2) / ((2 * np.pi)**0.5)\n",
    "        \n",
    "            elif self.current_param == \"cosine\":#Косинусоидальное\n",
    "                return np.pi/4 * np.cos(u*np.pi/2)\n",
    "            \n",
    "            elif self.current_param == \"triangle\":\n",
    "                return 1-abs(u)\n",
    "            \n",
    "            elif self.current_param == \"uniform\":\n",
    "                return 0.5\n",
    "        \n",
    "            return 0.5  \n",
    "        \n",
    "    def predict(self,param):\n",
    "        \n",
    "        if param.lower() in self.params:\n",
    "            self.current_param = param\n",
    "        else:\n",
    "            self.current_param = param[0].lower()\n",
    "        \n",
    "        prediction = []\n",
    "        for point in self.X_test:\n",
    "            K =[self.kernel(x,point) for x in self.X_train]#values of a kernel function\n",
    "            prediction.append(sum(k*y for k,y in zip(K,self.Y_train))/sum(K))                      \n",
    "        self.pred = prediction\n",
    "        return self.pred\n",
    "        \n",
    "    \n",
    "    def calculate_accuracy(self,param=\"squared\"):\n",
    "        if param==\"squared\":\n",
    "            return mean_squared_error(self.X_test,self.pred)\n",
    "        else:\n",
    "            return mean_absolute_error(self.X_test,self.pred)"
   ]
  },
  {
   "cell_type": "code",
   "execution_count": 117,
   "metadata": {},
   "outputs": [],
   "source": [
    "parameters = [\"parabolic\",\"quartic\",\"gaussian\"]\n",
    "k = Kernel(X_tr,Y_tr,X_t,Y_t,parameters)\n",
    "p = k.predict(\"quartic\")"
   ]
  },
  {
   "cell_type": "code",
   "execution_count": 113,
   "metadata": {},
   "outputs": [
    {
     "data": {
      "text/plain": [
       "16.309728703754907"
      ]
     },
     "execution_count": 113,
     "metadata": {},
     "output_type": "execute_result"
    }
   ],
   "source": [
    "k.calculate_accuracy()"
   ]
  },
  {
   "cell_type": "markdown",
   "metadata": {},
   "source": [
    "### LOWESS algorithm"
   ]
  },
  {
   "cell_type": "code",
   "execution_count": 22,
   "metadata": {},
   "outputs": [],
   "source": [
    "#draft"
   ]
  },
  {
   "cell_type": "code",
   "execution_count": null,
   "metadata": {},
   "outputs": [],
   "source": [
    "class LOWESS:\n",
    "    \"\"\"\n",
    "    \n",
    "    \"\"\"\n",
    "    \n",
    "    def __init__(self,X_train,Y_train,X_test,Y_test):\n",
    "        self.X_train, self.X_test = X_train, X_test\n",
    "        self.Y_train, self.Y_test = Y_train, Y_test\n",
    "    def fit(self, X,Y):\n",
    "    \n",
    "    \n",
    "    def kernel(self):\n",
    "    \n",
    "    def predict(self,X_test = None):\n",
    "    \n",
    "    \n",
    "    def calculate_accuracy(self,param=\"squared\"):\n",
    "        if param==\"squared\":\n",
    "            return mean_squared_error(self.X_test[:,2],self.pred)\n",
    "        else:\n",
    "            return mean_absolute_error(self.X_test[:,2],self.pred)\n"
   ]
  },
  {
   "cell_type": "code",
   "execution_count": null,
   "metadata": {},
   "outputs": [],
   "source": []
  }
 ],
 "metadata": {
  "kernelspec": {
   "display_name": "Python 3",
   "language": "python",
   "name": "python3"
  },
  "language_info": {
   "codemirror_mode": {
    "name": "ipython",
    "version": 3
   },
   "file_extension": ".py",
   "mimetype": "text/x-python",
   "name": "python",
   "nbconvert_exporter": "python",
   "pygments_lexer": "ipython3",
   "version": "3.7.1"
  }
 },
 "nbformat": 4,
 "nbformat_minor": 2
}
